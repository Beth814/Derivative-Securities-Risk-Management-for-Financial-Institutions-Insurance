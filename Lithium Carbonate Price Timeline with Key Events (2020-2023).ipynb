{
 "cells": [
  {
   "cell_type": "code",
   "execution_count": 4,
   "id": "0a19c69f-e2b2-4ae1-afee-ea9b1b902752",
   "metadata": {
    "scrolled": true
   },
   "outputs": [
    {
     "data": {
      "application/vnd.plotly.v1+json": {
       "config": {
        "plotlyServerURL": "https://plot.ly"
       },
       "data": [
        {
         "hovertemplate": "<b>%{x|%Y-%m}</b><br>价格：%{y}万元/吨<extra></extra>",
         "line": {
          "color": "#d62728",
          "width": 3
         },
         "marker": {
          "size": 8
         },
         "mode": "lines+markers",
         "name": "碳酸锂价格",
         "type": "scatter",
         "x": [
          "2020-01-01T00:00:00",
          "2021-01-01T00:00:00",
          "2022-01-01T00:00:00",
          "2022-09-30T00:00:00",
          "2022-12-31T00:00:00",
          "2023-03-31T00:00:00",
          "2023-06-30T00:00:00",
          "2023-07-21T00:00:00",
          "2023-09-30T00:00:00",
          "2023-12-31T00:00:00"
         ],
         "y": [
          5.3,
          28.6,
          56.7,
          60,
          35,
          28,
          15.2,
          9,
          12.5,
          9
         ]
        },
        {
         "hovertemplate": "<b>%{x|%Y-%m}</b><br>库存消费比：%{y}个月<extra></extra>",
         "marker": {
          "color": "#1f77b4",
          "opacity": 0.3
         },
         "name": "库存消费比（月）",
         "type": "bar",
         "x": [
          "2020-01-01T00:00:00",
          "2021-01-01T00:00:00",
          "2022-01-01T00:00:00",
          "2022-09-30T00:00:00",
          "2022-12-31T00:00:00",
          "2023-03-31T00:00:00",
          "2023-06-30T00:00:00",
          "2023-07-21T00:00:00",
          "2023-09-30T00:00:00",
          "2023-12-31T00:00:00"
         ],
         "y": [
          0.3,
          0.2,
          0.3,
          0.3,
          1.2,
          1.5,
          1.8,
          2,
          2.1,
          2.2
         ],
         "yaxis": "y2"
        }
       ],
       "layout": {
        "annotations": [
         {
          "arrowhead": 3,
          "arrowsize": 1.5,
          "ax": 0,
          "ay": -40,
          "bgcolor": "#fff",
          "bordercolor": "#333",
          "borderwidth": 1,
          "opacity": 0.9,
          "showarrow": true,
          "text": "新能源补贴延续<br>价格5.3→28.6万",
          "x": "2020-01-01T00:00:00",
          "xref": "x",
          "y": 30,
          "yref": "y"
         },
         {
          "arrowhead": 3,
          "arrowsize": 1.5,
          "ax": 0,
          "ay": -40,
          "bgcolor": "#fff",
          "bordercolor": "#333",
          "borderwidth": 1,
          "opacity": 0.9,
          "showarrow": true,
          "text": "价格冲顶60万<br>库存比0.3个月",
          "x": "2022-09-30T00:00:00",
          "xref": "x",
          "y": 62,
          "yref": "y"
         },
         {
          "arrowhead": 3,
          "arrowsize": 1.5,
          "ax": 0,
          "ay": -40,
          "bgcolor": "#fff",
          "bordercolor": "#333",
          "borderwidth": 1,
          "opacity": 0.9,
          "showarrow": true,
          "text": "补贴退坡<br>需求增速降至35%",
          "x": "2022-12-31T00:00:00",
          "xref": "x",
          "y": 38,
          "yref": "y"
         },
         {
          "arrowhead": 3,
          "arrowsize": 1.5,
          "ax": 0,
          "ay": -40,
          "bgcolor": "#fff",
          "bordercolor": "#333",
          "borderwidth": 1,
          "opacity": 0.9,
          "showarrow": true,
          "text": "期货上市首周跌停<br>基差贴水20%",
          "x": "2023-07-21T00:00:00",
          "xref": "x",
          "y": 12,
          "yref": "y"
         },
         {
          "arrowhead": 3,
          "arrowsize": 1.5,
          "ax": 0,
          "ay": -40,
          "bgcolor": "#fff",
          "bordercolor": "#333",
          "borderwidth": 1,
          "opacity": 0.9,
          "showarrow": true,
          "text": "套保失效<br>价格跌至9万",
          "x": "2023-12-31T00:00:00",
          "xref": "x",
          "y": 10,
          "yref": "y"
         },
         {
          "font": {
           "color": "#666",
           "size": 10
          },
          "showarrow": false,
          "text": "数据来源：SMM、中国汽车工业协会（2024）",
          "x": 1,
          "xref": "paper",
          "y": -0.25,
          "yref": "paper"
         }
        ],
        "height": 600,
        "hovermode": "x unified",
        "legend": {
         "bgcolor": "rgba(255,255,255,0.8)",
         "x": 0.02,
         "y": 0.98
        },
        "margin": {
         "b": 80,
         "l": 50,
         "r": 50,
         "t": 100
        },
        "plot_bgcolor": "rgba(255,255,255,1)",
        "shapes": [
         {
          "fillcolor": "rgba(0,255,0,0.1)",
          "line": {
           "width": 0
          },
          "type": "rect",
          "x0": "2020-01-01",
          "x1": "2022-09-30",
          "xref": "x",
          "y0": 0,
          "y1": 1,
          "yref": "paper"
         },
         {
          "fillcolor": "rgba(255,165,0,0.1)",
          "line": {
           "width": 0
          },
          "type": "rect",
          "x0": "2022-10-01",
          "x1": "2023-06-30",
          "xref": "x",
          "y0": 0,
          "y1": 1,
          "yref": "paper"
         },
         {
          "fillcolor": "rgba(255,0,0,0.1)",
          "line": {
           "width": 0
          },
          "type": "rect",
          "x0": "2023-07-01",
          "x1": "2023-12-31",
          "xref": "x",
          "y0": 0,
          "y1": 1,
          "yref": "paper"
         }
        ],
        "template": {
         "data": {
          "bar": [
           {
            "error_x": {
             "color": "#2a3f5f"
            },
            "error_y": {
             "color": "#2a3f5f"
            },
            "marker": {
             "line": {
              "color": "#E5ECF6",
              "width": 0.5
             },
             "pattern": {
              "fillmode": "overlay",
              "size": 10,
              "solidity": 0.2
             }
            },
            "type": "bar"
           }
          ],
          "barpolar": [
           {
            "marker": {
             "line": {
              "color": "#E5ECF6",
              "width": 0.5
             },
             "pattern": {
              "fillmode": "overlay",
              "size": 10,
              "solidity": 0.2
             }
            },
            "type": "barpolar"
           }
          ],
          "carpet": [
           {
            "aaxis": {
             "endlinecolor": "#2a3f5f",
             "gridcolor": "white",
             "linecolor": "white",
             "minorgridcolor": "white",
             "startlinecolor": "#2a3f5f"
            },
            "baxis": {
             "endlinecolor": "#2a3f5f",
             "gridcolor": "white",
             "linecolor": "white",
             "minorgridcolor": "white",
             "startlinecolor": "#2a3f5f"
            },
            "type": "carpet"
           }
          ],
          "choropleth": [
           {
            "colorbar": {
             "outlinewidth": 0,
             "ticks": ""
            },
            "type": "choropleth"
           }
          ],
          "contour": [
           {
            "colorbar": {
             "outlinewidth": 0,
             "ticks": ""
            },
            "colorscale": [
             [
              0,
              "#0d0887"
             ],
             [
              0.1111111111111111,
              "#46039f"
             ],
             [
              0.2222222222222222,
              "#7201a8"
             ],
             [
              0.3333333333333333,
              "#9c179e"
             ],
             [
              0.4444444444444444,
              "#bd3786"
             ],
             [
              0.5555555555555556,
              "#d8576b"
             ],
             [
              0.6666666666666666,
              "#ed7953"
             ],
             [
              0.7777777777777778,
              "#fb9f3a"
             ],
             [
              0.8888888888888888,
              "#fdca26"
             ],
             [
              1,
              "#f0f921"
             ]
            ],
            "type": "contour"
           }
          ],
          "contourcarpet": [
           {
            "colorbar": {
             "outlinewidth": 0,
             "ticks": ""
            },
            "type": "contourcarpet"
           }
          ],
          "heatmap": [
           {
            "colorbar": {
             "outlinewidth": 0,
             "ticks": ""
            },
            "colorscale": [
             [
              0,
              "#0d0887"
             ],
             [
              0.1111111111111111,
              "#46039f"
             ],
             [
              0.2222222222222222,
              "#7201a8"
             ],
             [
              0.3333333333333333,
              "#9c179e"
             ],
             [
              0.4444444444444444,
              "#bd3786"
             ],
             [
              0.5555555555555556,
              "#d8576b"
             ],
             [
              0.6666666666666666,
              "#ed7953"
             ],
             [
              0.7777777777777778,
              "#fb9f3a"
             ],
             [
              0.8888888888888888,
              "#fdca26"
             ],
             [
              1,
              "#f0f921"
             ]
            ],
            "type": "heatmap"
           }
          ],
          "heatmapgl": [
           {
            "colorbar": {
             "outlinewidth": 0,
             "ticks": ""
            },
            "colorscale": [
             [
              0,
              "#0d0887"
             ],
             [
              0.1111111111111111,
              "#46039f"
             ],
             [
              0.2222222222222222,
              "#7201a8"
             ],
             [
              0.3333333333333333,
              "#9c179e"
             ],
             [
              0.4444444444444444,
              "#bd3786"
             ],
             [
              0.5555555555555556,
              "#d8576b"
             ],
             [
              0.6666666666666666,
              "#ed7953"
             ],
             [
              0.7777777777777778,
              "#fb9f3a"
             ],
             [
              0.8888888888888888,
              "#fdca26"
             ],
             [
              1,
              "#f0f921"
             ]
            ],
            "type": "heatmapgl"
           }
          ],
          "histogram": [
           {
            "marker": {
             "pattern": {
              "fillmode": "overlay",
              "size": 10,
              "solidity": 0.2
             }
            },
            "type": "histogram"
           }
          ],
          "histogram2d": [
           {
            "colorbar": {
             "outlinewidth": 0,
             "ticks": ""
            },
            "colorscale": [
             [
              0,
              "#0d0887"
             ],
             [
              0.1111111111111111,
              "#46039f"
             ],
             [
              0.2222222222222222,
              "#7201a8"
             ],
             [
              0.3333333333333333,
              "#9c179e"
             ],
             [
              0.4444444444444444,
              "#bd3786"
             ],
             [
              0.5555555555555556,
              "#d8576b"
             ],
             [
              0.6666666666666666,
              "#ed7953"
             ],
             [
              0.7777777777777778,
              "#fb9f3a"
             ],
             [
              0.8888888888888888,
              "#fdca26"
             ],
             [
              1,
              "#f0f921"
             ]
            ],
            "type": "histogram2d"
           }
          ],
          "histogram2dcontour": [
           {
            "colorbar": {
             "outlinewidth": 0,
             "ticks": ""
            },
            "colorscale": [
             [
              0,
              "#0d0887"
             ],
             [
              0.1111111111111111,
              "#46039f"
             ],
             [
              0.2222222222222222,
              "#7201a8"
             ],
             [
              0.3333333333333333,
              "#9c179e"
             ],
             [
              0.4444444444444444,
              "#bd3786"
             ],
             [
              0.5555555555555556,
              "#d8576b"
             ],
             [
              0.6666666666666666,
              "#ed7953"
             ],
             [
              0.7777777777777778,
              "#fb9f3a"
             ],
             [
              0.8888888888888888,
              "#fdca26"
             ],
             [
              1,
              "#f0f921"
             ]
            ],
            "type": "histogram2dcontour"
           }
          ],
          "mesh3d": [
           {
            "colorbar": {
             "outlinewidth": 0,
             "ticks": ""
            },
            "type": "mesh3d"
           }
          ],
          "parcoords": [
           {
            "line": {
             "colorbar": {
              "outlinewidth": 0,
              "ticks": ""
             }
            },
            "type": "parcoords"
           }
          ],
          "pie": [
           {
            "automargin": true,
            "type": "pie"
           }
          ],
          "scatter": [
           {
            "fillpattern": {
             "fillmode": "overlay",
             "size": 10,
             "solidity": 0.2
            },
            "type": "scatter"
           }
          ],
          "scatter3d": [
           {
            "line": {
             "colorbar": {
              "outlinewidth": 0,
              "ticks": ""
             }
            },
            "marker": {
             "colorbar": {
              "outlinewidth": 0,
              "ticks": ""
             }
            },
            "type": "scatter3d"
           }
          ],
          "scattercarpet": [
           {
            "marker": {
             "colorbar": {
              "outlinewidth": 0,
              "ticks": ""
             }
            },
            "type": "scattercarpet"
           }
          ],
          "scattergeo": [
           {
            "marker": {
             "colorbar": {
              "outlinewidth": 0,
              "ticks": ""
             }
            },
            "type": "scattergeo"
           }
          ],
          "scattergl": [
           {
            "marker": {
             "colorbar": {
              "outlinewidth": 0,
              "ticks": ""
             }
            },
            "type": "scattergl"
           }
          ],
          "scattermapbox": [
           {
            "marker": {
             "colorbar": {
              "outlinewidth": 0,
              "ticks": ""
             }
            },
            "type": "scattermapbox"
           }
          ],
          "scatterpolar": [
           {
            "marker": {
             "colorbar": {
              "outlinewidth": 0,
              "ticks": ""
             }
            },
            "type": "scatterpolar"
           }
          ],
          "scatterpolargl": [
           {
            "marker": {
             "colorbar": {
              "outlinewidth": 0,
              "ticks": ""
             }
            },
            "type": "scatterpolargl"
           }
          ],
          "scatterternary": [
           {
            "marker": {
             "colorbar": {
              "outlinewidth": 0,
              "ticks": ""
             }
            },
            "type": "scatterternary"
           }
          ],
          "surface": [
           {
            "colorbar": {
             "outlinewidth": 0,
             "ticks": ""
            },
            "colorscale": [
             [
              0,
              "#0d0887"
             ],
             [
              0.1111111111111111,
              "#46039f"
             ],
             [
              0.2222222222222222,
              "#7201a8"
             ],
             [
              0.3333333333333333,
              "#9c179e"
             ],
             [
              0.4444444444444444,
              "#bd3786"
             ],
             [
              0.5555555555555556,
              "#d8576b"
             ],
             [
              0.6666666666666666,
              "#ed7953"
             ],
             [
              0.7777777777777778,
              "#fb9f3a"
             ],
             [
              0.8888888888888888,
              "#fdca26"
             ],
             [
              1,
              "#f0f921"
             ]
            ],
            "type": "surface"
           }
          ],
          "table": [
           {
            "cells": {
             "fill": {
              "color": "#EBF0F8"
             },
             "line": {
              "color": "white"
             }
            },
            "header": {
             "fill": {
              "color": "#C8D4E3"
             },
             "line": {
              "color": "white"
             }
            },
            "type": "table"
           }
          ]
         },
         "layout": {
          "annotationdefaults": {
           "arrowcolor": "#2a3f5f",
           "arrowhead": 0,
           "arrowwidth": 1
          },
          "autotypenumbers": "strict",
          "coloraxis": {
           "colorbar": {
            "outlinewidth": 0,
            "ticks": ""
           }
          },
          "colorscale": {
           "diverging": [
            [
             0,
             "#8e0152"
            ],
            [
             0.1,
             "#c51b7d"
            ],
            [
             0.2,
             "#de77ae"
            ],
            [
             0.3,
             "#f1b6da"
            ],
            [
             0.4,
             "#fde0ef"
            ],
            [
             0.5,
             "#f7f7f7"
            ],
            [
             0.6,
             "#e6f5d0"
            ],
            [
             0.7,
             "#b8e186"
            ],
            [
             0.8,
             "#7fbc41"
            ],
            [
             0.9,
             "#4d9221"
            ],
            [
             1,
             "#276419"
            ]
           ],
           "sequential": [
            [
             0,
             "#0d0887"
            ],
            [
             0.1111111111111111,
             "#46039f"
            ],
            [
             0.2222222222222222,
             "#7201a8"
            ],
            [
             0.3333333333333333,
             "#9c179e"
            ],
            [
             0.4444444444444444,
             "#bd3786"
            ],
            [
             0.5555555555555556,
             "#d8576b"
            ],
            [
             0.6666666666666666,
             "#ed7953"
            ],
            [
             0.7777777777777778,
             "#fb9f3a"
            ],
            [
             0.8888888888888888,
             "#fdca26"
            ],
            [
             1,
             "#f0f921"
            ]
           ],
           "sequentialminus": [
            [
             0,
             "#0d0887"
            ],
            [
             0.1111111111111111,
             "#46039f"
            ],
            [
             0.2222222222222222,
             "#7201a8"
            ],
            [
             0.3333333333333333,
             "#9c179e"
            ],
            [
             0.4444444444444444,
             "#bd3786"
            ],
            [
             0.5555555555555556,
             "#d8576b"
            ],
            [
             0.6666666666666666,
             "#ed7953"
            ],
            [
             0.7777777777777778,
             "#fb9f3a"
            ],
            [
             0.8888888888888888,
             "#fdca26"
            ],
            [
             1,
             "#f0f921"
            ]
           ]
          },
          "colorway": [
           "#636efa",
           "#EF553B",
           "#00cc96",
           "#ab63fa",
           "#FFA15A",
           "#19d3f3",
           "#FF6692",
           "#B6E880",
           "#FF97FF",
           "#FECB52"
          ],
          "font": {
           "color": "#2a3f5f"
          },
          "geo": {
           "bgcolor": "white",
           "lakecolor": "white",
           "landcolor": "#E5ECF6",
           "showlakes": true,
           "showland": true,
           "subunitcolor": "white"
          },
          "hoverlabel": {
           "align": "left"
          },
          "hovermode": "closest",
          "mapbox": {
           "style": "light"
          },
          "paper_bgcolor": "white",
          "plot_bgcolor": "#E5ECF6",
          "polar": {
           "angularaxis": {
            "gridcolor": "white",
            "linecolor": "white",
            "ticks": ""
           },
           "bgcolor": "#E5ECF6",
           "radialaxis": {
            "gridcolor": "white",
            "linecolor": "white",
            "ticks": ""
           }
          },
          "scene": {
           "xaxis": {
            "backgroundcolor": "#E5ECF6",
            "gridcolor": "white",
            "gridwidth": 2,
            "linecolor": "white",
            "showbackground": true,
            "ticks": "",
            "zerolinecolor": "white"
           },
           "yaxis": {
            "backgroundcolor": "#E5ECF6",
            "gridcolor": "white",
            "gridwidth": 2,
            "linecolor": "white",
            "showbackground": true,
            "ticks": "",
            "zerolinecolor": "white"
           },
           "zaxis": {
            "backgroundcolor": "#E5ECF6",
            "gridcolor": "white",
            "gridwidth": 2,
            "linecolor": "white",
            "showbackground": true,
            "ticks": "",
            "zerolinecolor": "white"
           }
          },
          "shapedefaults": {
           "line": {
            "color": "#2a3f5f"
           }
          },
          "ternary": {
           "aaxis": {
            "gridcolor": "white",
            "linecolor": "white",
            "ticks": ""
           },
           "baxis": {
            "gridcolor": "white",
            "linecolor": "white",
            "ticks": ""
           },
           "bgcolor": "#E5ECF6",
           "caxis": {
            "gridcolor": "white",
            "linecolor": "white",
            "ticks": ""
           }
          },
          "title": {
           "x": 0.05
          },
          "xaxis": {
           "automargin": true,
           "gridcolor": "white",
           "linecolor": "white",
           "ticks": "",
           "title": {
            "standoff": 15
           },
           "zerolinecolor": "white",
           "zerolinewidth": 2
          },
          "yaxis": {
           "automargin": true,
           "gridcolor": "white",
           "linecolor": "white",
           "ticks": "",
           "title": {
            "standoff": 15
           },
           "zerolinecolor": "white",
           "zerolinewidth": 2
          }
         }
        },
        "title": {
         "font": {
          "size": 20
         },
         "text": "<b>碳酸锂价格与关键事件时间线（2020-2023）</b>",
         "x": 0.5,
         "xanchor": "center",
         "y": 0.95,
         "yanchor": "top"
        },
        "width": 1200,
        "xaxis": {
         "autorange": true,
         "gridcolor": "rgba(200,200,200,0.3)",
         "range": [
          "2019-10-03 12:40:00.2474",
          "2024-03-29 11:19:59.7526"
         ],
         "tickangle": 45,
         "tickformat": "%Y-%m",
         "type": "date"
        },
        "yaxis": {
         "gridcolor": "rgba(200,200,200,0.3)",
         "range": [
          0,
          65
         ],
         "title": {
          "text": "价格 (万元/吨)"
         },
         "type": "linear"
        },
        "yaxis2": {
         "overlaying": "y",
         "range": [
          0,
          2.5
         ],
         "side": "right",
         "title": {
          "text": "库存消费比 (月)"
         },
         "type": "linear"
        }
       }
      },
      "image/png": "[encoded data removed]",
      "text/html": [
       "<div>                            <div id=\"cfb44c34-aae2-4a3d-87f1-a0dfd6c95648\" class=\"plotly-graph-div\" style=\"height:600px; width:1200px;\"></div>            <script type=\"text/javascript\">                require([\"plotly\"], function(Plotly) {                    window.PLOTLYENV=window.PLOTLYENV || {};                                    if (document.getElementById(\"cfb44c34-aae2-4a3d-87f1-a0dfd6c95648\")) {                    Plotly.newPlot(                        \"cfb44c34-aae2-4a3d-87f1-a0dfd6c95648\",                        [{\"hovertemplate\":\"\\u003cb\\u003e%{x|%Y-%m}\\u003c\\u002fb\\u003e\\u003cbr\\u003e\\u4ef7\\u683c\\uff1a%{y}\\u4e07\\u5143\\u002f\\u5428\\u003cextra\\u003e\\u003c\\u002fextra\\u003e\",\"line\":{\"color\":\"#d62728\",\"width\":3},\"marker\":{\"size\":8},\"mode\":\"lines+markers\",\"name\":\"\\u78b3\\u9178\\u9502\\u4ef7\\u683c\",\"x\":[\"2020-01-01T00:00:00\",\"2021-01-01T00:00:00\",\"2022-01-01T00:00:00\",\"2022-09-30T00:00:00\",\"2022-12-31T00:00:00\",\"2023-03-31T00:00:00\",\"2023-06-30T00:00:00\",\"2023-07-21T00:00:00\",\"2023-09-30T00:00:00\",\"2023-12-31T00:00:00\"],\"y\":[5.3,28.6,56.7,60.0,35.0,28.0,15.2,9.0,12.5,9.0],\"type\":\"scatter\"},{\"hovertemplate\":\"\\u003cb\\u003e%{x|%Y-%m}\\u003c\\u002fb\\u003e\\u003cbr\\u003e\\u5e93\\u5b58\\u6d88\\u8d39\\u6bd4\\uff1a%{y}\\u4e2a\\u6708\\u003cextra\\u003e\\u003c\\u002fextra\\u003e\",\"marker\":{\"color\":\"#1f77b4\",\"opacity\":0.3},\"name\":\"\\u5e93\\u5b58\\u6d88\\u8d39\\u6bd4\\uff08\\u6708\\uff09\",\"x\":[\"2020-01-01T00:00:00\",\"2021-01-01T00:00:00\",\"2022-01-01T00:00:00\",\"2022-09-30T00:00:00\",\"2022-12-31T00:00:00\",\"2023-03-31T00:00:00\",\"2023-06-30T00:00:00\",\"2023-07-21T00:00:00\",\"2023-09-30T00:00:00\",\"2023-12-31T00:00:00\"],\"y\":[0.3,0.2,0.3,0.3,1.2,1.5,1.8,2.0,2.1,2.2],\"yaxis\":\"y2\",\"type\":\"bar\"}],                        {\"template\":{\"data\":{\"histogram2dcontour\":[{\"type\":\"histogram2dcontour\",\"colorbar\":{\"outlinewidth\":0,\"ticks\":\"\"},\"colorscale\":[[0.0,\"#0d0887\"],[0.1111111111111111,\"#46039f\"],[0.2222222222222222,\"#7201a8\"],[0.3333333333333333,\"#9c179e\"],[0.4444444444444444,\"#bd3786\"],[0.5555555555555556,\"#d8576b\"],[0.6666666666666666,\"#ed7953\"],[0.7777777777777778,\"#fb9f3a\"],[0.8888888888888888,\"#fdca26\"],[1.0,\"#f0f921\"]]}],\"choropleth\":[{\"type\":\"choropleth\",\"colorbar\":{\"outlinewidth\":0,\"ticks\":\"\"}}],\"histogram2d\":[{\"type\":\"histogram2d\",\"colorbar\":{\"outlinewidth\":0,\"ticks\":\"\"},\"colorscale\":[[0.0,\"#0d0887\"],[0.1111111111111111,\"#46039f\"],[0.2222222222222222,\"#7201a8\"],[0.3333333333333333,\"#9c179e\"],[0.4444444444444444,\"#bd3786\"],[0.5555555555555556,\"#d8576b\"],[0.6666666666666666,\"#ed7953\"],[0.7777777777777778,\"#fb9f3a\"],[0.8888888888888888,\"#fdca26\"],[1.0,\"#f0f921\"]]}],\"heatmap\":[{\"type\":\"heatmap\",\"colorbar\":{\"outlinewidth\":0,\"ticks\":\"\"},\"colorscale\":[[0.0,\"#0d0887\"],[0.1111111111111111,\"#46039f\"],[0.2222222222222222,\"#7201a8\"],[0.3333333333333333,\"#9c179e\"],[0.4444444444444444,\"#bd3786\"],[0.5555555555555556,\"#d8576b\"],[0.6666666666666666,\"#ed7953\"],[0.7777777777777778,\"#fb9f3a\"],[0.8888888888888888,\"#fdca26\"],[1.0,\"#f0f921\"]]}],\"heatmapgl\":[{\"type\":\"heatmapgl\",\"colorbar\":{\"outlinewidth\":0,\"ticks\":\"\"},\"colorscale\":[[0.0,\"#0d0887\"],[0.1111111111111111,\"#46039f\"],[0.2222222222222222,\"#7201a8\"],[0.3333333333333333,\"#9c179e\"],[0.4444444444444444,\"#bd3786\"],[0.5555555555555556,\"#d8576b\"],[0.6666666666666666,\"#ed7953\"],[0.7777777777777778,\"#fb9f3a\"],[0.8888888888888888,\"#fdca26\"],[1.0,\"#f0f921\"]]}],\"contourcarpet\":[{\"type\":\"contourcarpet\",\"colorbar\":{\"outlinewidth\":0,\"ticks\":\"\"}}],\"contour\":[{\"type\":\"contour\",\"colorbar\":{\"outlinewidth\":0,\"ticks\":\"\"},\"colorscale\":[[0.0,\"#0d0887\"],[0.1111111111111111,\"#46039f\"],[0.2222222222222222,\"#7201a8\"],[0.3333333333333333,\"#9c179e\"],[0.4444444444444444,\"#bd3786\"],[0.5555555555555556,\"#d8576b\"],[0.6666666666666666,\"#ed7953\"],[0.7777777777777778,\"#fb9f3a\"],[0.8888888888888888,\"#fdca26\"],[1.0,\"#f0f921\"]]}],\"surface\":[{\"type\":\"surface\",\"colorbar\":{\"outlinewidth\":0,\"ticks\":\"\"},\"colorscale\":[[0.0,\"#0d0887\"],[0.1111111111111111,\"#46039f\"],[0.2222222222222222,\"#7201a8\"],[0.3333333333333333,\"#9c179e\"],[0.4444444444444444,\"#bd3786\"],[0.5555555555555556,\"#d8576b\"],[0.6666666666666666,\"#ed7953\"],[0.7777777777777778,\"#fb9f3a\"],[0.8888888888888888,\"#fdca26\"],[1.0,\"#f0f921\"]]}],\"mesh3d\":[{\"type\":\"mesh3d\",\"colorbar\":{\"outlinewidth\":0,\"ticks\":\"\"}}],\"scatter\":[{\"fillpattern\":{\"fillmode\":\"overlay\",\"size\":10,\"solidity\":0.2},\"type\":\"scatter\"}],\"parcoords\":[{\"type\":\"parcoords\",\"line\":{\"colorbar\":{\"outlinewidth\":0,\"ticks\":\"\"}}}],\"scatterpolargl\":[{\"type\":\"scatterpolargl\",\"marker\":{\"colorbar\":{\"outlinewidth\":0,\"ticks\":\"\"}}}],\"bar\":[{\"error_x\":{\"color\":\"#2a3f5f\"},\"error_y\":{\"color\":\"#2a3f5f\"},\"marker\":{\"line\":{\"color\":\"#E5ECF6\",\"width\":0.5},\"pattern\":{\"fillmode\":\"overlay\",\"size\":10,\"solidity\":0.2}},\"type\":\"bar\"}],\"scattergeo\":[{\"type\":\"scattergeo\",\"marker\":{\"colorbar\":{\"outlinewidth\":0,\"ticks\":\"\"}}}],\"scatterpolar\":[{\"type\":\"scatterpolar\",\"marker\":{\"colorbar\":{\"outlinewidth\":0,\"ticks\":\"\"}}}],\"histogram\":[{\"marker\":{\"pattern\":{\"fillmode\":\"overlay\",\"size\":10,\"solidity\":0.2}},\"type\":\"histogram\"}],\"scattergl\":[{\"type\":\"scattergl\",\"marker\":{\"colorbar\":{\"outlinewidth\":0,\"ticks\":\"\"}}}],\"scatter3d\":[{\"type\":\"scatter3d\",\"line\":{\"colorbar\":{\"outlinewidth\":0,\"ticks\":\"\"}},\"marker\":{\"colorbar\":{\"outlinewidth\":0,\"ticks\":\"\"}}}],\"scattermapbox\":[{\"type\":\"scattermapbox\",\"marker\":{\"colorbar\":{\"outlinewidth\":0,\"ticks\":\"\"}}}],\"scatterternary\":[{\"type\":\"scatterternary\",\"marker\":{\"colorbar\":{\"outlinewidth\":0,\"ticks\":\"\"}}}],\"scattercarpet\":[{\"type\":\"scattercarpet\",\"marker\":{\"colorbar\":{\"outlinewidth\":0,\"ticks\":\"\"}}}],\"carpet\":[{\"aaxis\":{\"endlinecolor\":\"#2a3f5f\",\"gridcolor\":\"white\",\"linecolor\":\"white\",\"minorgridcolor\":\"white\",\"startlinecolor\":\"#2a3f5f\"},\"baxis\":{\"endlinecolor\":\"#2a3f5f\",\"gridcolor\":\"white\",\"linecolor\":\"white\",\"minorgridcolor\":\"white\",\"startlinecolor\":\"#2a3f5f\"},\"type\":\"carpet\"}],\"table\":[{\"cells\":{\"fill\":{\"color\":\"#EBF0F8\"},\"line\":{\"color\":\"white\"}},\"header\":{\"fill\":{\"color\":\"#C8D4E3\"},\"line\":{\"color\":\"white\"}},\"type\":\"table\"}],\"barpolar\":[{\"marker\":{\"line\":{\"color\":\"#E5ECF6\",\"width\":0.5},\"pattern\":{\"fillmode\":\"overlay\",\"size\":10,\"solidity\":0.2}},\"type\":\"barpolar\"}],\"pie\":[{\"automargin\":true,\"type\":\"pie\"}]},\"layout\":{\"autotypenumbers\":\"strict\",\"colorway\":[\"#636efa\",\"#EF553B\",\"#00cc96\",\"#ab63fa\",\"#FFA15A\",\"#19d3f3\",\"#FF6692\",\"#B6E880\",\"#FF97FF\",\"#FECB52\"],\"font\":{\"color\":\"#2a3f5f\"},\"hovermode\":\"closest\",\"hoverlabel\":{\"align\":\"left\"},\"paper_bgcolor\":\"white\",\"plot_bgcolor\":\"#E5ECF6\",\"polar\":{\"bgcolor\":\"#E5ECF6\",\"angularaxis\":{\"gridcolor\":\"white\",\"linecolor\":\"white\",\"ticks\":\"\"},\"radialaxis\":{\"gridcolor\":\"white\",\"linecolor\":\"white\",\"ticks\":\"\"}},\"ternary\":{\"bgcolor\":\"#E5ECF6\",\"aaxis\":{\"gridcolor\":\"white\",\"linecolor\":\"white\",\"ticks\":\"\"},\"baxis\":{\"gridcolor\":\"white\",\"linecolor\":\"white\",\"ticks\":\"\"},\"caxis\":{\"gridcolor\":\"white\",\"linecolor\":\"white\",\"ticks\":\"\"}},\"coloraxis\":{\"colorbar\":{\"outlinewidth\":0,\"ticks\":\"\"}},\"colorscale\":{\"sequential\":[[0.0,\"#0d0887\"],[0.1111111111111111,\"#46039f\"],[0.2222222222222222,\"#7201a8\"],[0.3333333333333333,\"#9c179e\"],[0.4444444444444444,\"#bd3786\"],[0.5555555555555556,\"#d8576b\"],[0.6666666666666666,\"#ed7953\"],[0.7777777777777778,\"#fb9f3a\"],[0.8888888888888888,\"#fdca26\"],[1.0,\"#f0f921\"]],\"sequentialminus\":[[0.0,\"#0d0887\"],[0.1111111111111111,\"#46039f\"],[0.2222222222222222,\"#7201a8\"],[0.3333333333333333,\"#9c179e\"],[0.4444444444444444,\"#bd3786\"],[0.5555555555555556,\"#d8576b\"],[0.6666666666666666,\"#ed7953\"],[0.7777777777777778,\"#fb9f3a\"],[0.8888888888888888,\"#fdca26\"],[1.0,\"#f0f921\"]],\"diverging\":[[0,\"#8e0152\"],[0.1,\"#c51b7d\"],[0.2,\"#de77ae\"],[0.3,\"#f1b6da\"],[0.4,\"#fde0ef\"],[0.5,\"#f7f7f7\"],[0.6,\"#e6f5d0\"],[0.7,\"#b8e186\"],[0.8,\"#7fbc41\"],[0.9,\"#4d9221\"],[1,\"#276419\"]]},\"xaxis\":{\"gridcolor\":\"white\",\"linecolor\":\"white\",\"ticks\":\"\",\"title\":{\"standoff\":15},\"zerolinecolor\":\"white\",\"automargin\":true,\"zerolinewidth\":2},\"yaxis\":{\"gridcolor\":\"white\",\"linecolor\":\"white\",\"ticks\":\"\",\"title\":{\"standoff\":15},\"zerolinecolor\":\"white\",\"automargin\":true,\"zerolinewidth\":2},\"scene\":{\"xaxis\":{\"backgroundcolor\":\"#E5ECF6\",\"gridcolor\":\"white\",\"linecolor\":\"white\",\"showbackground\":true,\"ticks\":\"\",\"zerolinecolor\":\"white\",\"gridwidth\":2},\"yaxis\":{\"backgroundcolor\":\"#E5ECF6\",\"gridcolor\":\"white\",\"linecolor\":\"white\",\"showbackground\":true,\"ticks\":\"\",\"zerolinecolor\":\"white\",\"gridwidth\":2},\"zaxis\":{\"backgroundcolor\":\"#E5ECF6\",\"gridcolor\":\"white\",\"linecolor\":\"white\",\"showbackground\":true,\"ticks\":\"\",\"zerolinecolor\":\"white\",\"gridwidth\":2}},\"shapedefaults\":{\"line\":{\"color\":\"#2a3f5f\"}},\"annotationdefaults\":{\"arrowcolor\":\"#2a3f5f\",\"arrowhead\":0,\"arrowwidth\":1},\"geo\":{\"bgcolor\":\"white\",\"landcolor\":\"#E5ECF6\",\"subunitcolor\":\"white\",\"showland\":true,\"showlakes\":true,\"lakecolor\":\"white\"},\"title\":{\"x\":0.05},\"mapbox\":{\"style\":\"light\"}}},\"shapes\":[{\"fillcolor\":\"rgba(0,255,0,0.1)\",\"type\":\"rect\",\"x0\":\"2020-01-01\",\"x1\":\"2022-09-30\",\"xref\":\"x\",\"y0\":0,\"y1\":1,\"yref\":\"paper\",\"line\":{\"width\":0}},{\"fillcolor\":\"rgba(255,165,0,0.1)\",\"type\":\"rect\",\"x0\":\"2022-10-01\",\"x1\":\"2023-06-30\",\"xref\":\"x\",\"y0\":0,\"y1\":1,\"yref\":\"paper\",\"line\":{\"width\":0}},{\"fillcolor\":\"rgba(255,0,0,0.1)\",\"type\":\"rect\",\"x0\":\"2023-07-01\",\"x1\":\"2023-12-31\",\"xref\":\"x\",\"y0\":0,\"y1\":1,\"yref\":\"paper\",\"line\":{\"width\":0}}],\"title\":{\"font\":{\"size\":20},\"text\":\"\\u003cb\\u003e\\u78b3\\u9178\\u9502\\u4ef7\\u683c\\u4e0e\\u5173\\u952e\\u4e8b\\u4ef6\\u65f6\\u95f4\\u7ebf\\uff082020-2023\\uff09\\u003c\\u002fb\\u003e\",\"y\":0.95,\"x\":0.5,\"xanchor\":\"center\",\"yanchor\":\"top\"},\"xaxis\":{\"tickformat\":\"%Y-%m\",\"tickangle\":45,\"gridcolor\":\"rgba(200,200,200,0.3)\"},\"yaxis\":{\"title\":{\"text\":\"\\u4ef7\\u683c (\\u4e07\\u5143\\u002f\\u5428)\"},\"range\":[0,65],\"gridcolor\":\"rgba(200,200,200,0.3)\"},\"yaxis2\":{\"title\":{\"text\":\"\\u5e93\\u5b58\\u6d88\\u8d39\\u6bd4 (\\u6708)\"},\"overlaying\":\"y\",\"side\":\"right\",\"range\":[0,2.5]},\"legend\":{\"x\":0.02,\"y\":0.98,\"bgcolor\":\"rgba(255,255,255,0.8)\"},\"margin\":{\"l\":50,\"r\":50,\"t\":100,\"b\":80},\"hovermode\":\"x unified\",\"plot_bgcolor\":\"rgba(255,255,255,1)\",\"annotations\":[{\"arrowhead\":3,\"arrowsize\":1.5,\"ax\":0,\"ay\":-40,\"bgcolor\":\"#fff\",\"bordercolor\":\"#333\",\"borderwidth\":1,\"opacity\":0.9,\"showarrow\":true,\"text\":\"\\u65b0\\u80fd\\u6e90\\u8865\\u8d34\\u5ef6\\u7eed\\u003cbr\\u003e\\u4ef7\\u683c5.3\\u219228.6\\u4e07\",\"x\":\"2020-01-01T00:00:00\",\"xref\":\"x\",\"y\":30,\"yref\":\"y\"},{\"arrowhead\":3,\"arrowsize\":1.5,\"ax\":0,\"ay\":-40,\"bgcolor\":\"#fff\",\"bordercolor\":\"#333\",\"borderwidth\":1,\"opacity\":0.9,\"showarrow\":true,\"text\":\"\\u4ef7\\u683c\\u51b2\\u987660\\u4e07\\u003cbr\\u003e\\u5e93\\u5b58\\u6bd40.3\\u4e2a\\u6708\",\"x\":\"2022-09-30T00:00:00\",\"xref\":\"x\",\"y\":62,\"yref\":\"y\"},{\"arrowhead\":3,\"arrowsize\":1.5,\"ax\":0,\"ay\":-40,\"bgcolor\":\"#fff\",\"bordercolor\":\"#333\",\"borderwidth\":1,\"opacity\":0.9,\"showarrow\":true,\"text\":\"\\u8865\\u8d34\\u9000\\u5761\\u003cbr\\u003e\\u9700\\u6c42\\u589e\\u901f\\u964d\\u81f335%\",\"x\":\"2022-12-31T00:00:00\",\"xref\":\"x\",\"y\":38,\"yref\":\"y\"},{\"arrowhead\":3,\"arrowsize\":1.5,\"ax\":0,\"ay\":-40,\"bgcolor\":\"#fff\",\"bordercolor\":\"#333\",\"borderwidth\":1,\"opacity\":0.9,\"showarrow\":true,\"text\":\"\\u671f\\u8d27\\u4e0a\\u5e02\\u9996\\u5468\\u8dcc\\u505c\\u003cbr\\u003e\\u57fa\\u5dee\\u8d34\\u6c3420%\",\"x\":\"2023-07-21T00:00:00\",\"xref\":\"x\",\"y\":12,\"yref\":\"y\"},{\"arrowhead\":3,\"arrowsize\":1.5,\"ax\":0,\"ay\":-40,\"bgcolor\":\"#fff\",\"bordercolor\":\"#333\",\"borderwidth\":1,\"opacity\":0.9,\"showarrow\":true,\"text\":\"\\u5957\\u4fdd\\u5931\\u6548\\u003cbr\\u003e\\u4ef7\\u683c\\u8dcc\\u81f39\\u4e07\",\"x\":\"2023-12-31T00:00:00\",\"xref\":\"x\",\"y\":10,\"yref\":\"y\"},{\"font\":{\"color\":\"#666\",\"size\":10},\"showarrow\":false,\"text\":\"\\u6570\\u636e\\u6765\\u6e90\\uff1aSMM\\u3001\\u4e2d\\u56fd\\u6c7d\\u8f66\\u5de5\\u4e1a\\u534f\\u4f1a\\uff082024\\uff09\",\"x\":1,\"xref\":\"paper\",\"y\":-0.25,\"yref\":\"paper\"}],\"width\":1200,\"height\":600},                        {\"responsive\": true}                    ).then(function(){\n",
       "                            \n",
       "var gd = document.getElementById('cfb44c34-aae2-4a3d-87f1-a0dfd6c95648');\n",
       "var x = new MutationObserver(function (mutations, observer) {{\n",
       "        var display = window.getComputedStyle(gd).display;\n",
       "        if (!display || display === 'none') {{\n",
       "            console.log([gd, 'removed!']);\n",
       "            Plotly.purge(gd);\n",
       "            observer.disconnect();\n",
       "        }}\n",
       "}});\n",
       "\n",
       "// Listen for the removal of the full notebook cells\n",
       "var notebookContainer = gd.closest('#notebook-container');\n",
       "if (notebookContainer) {{\n",
       "    x.observe(notebookContainer, {childList: true});\n",
       "}}\n",
       "\n",
       "// Listen for the clearing of the current output cell\n",
       "var outputEl = gd.closest('.output');\n",
       "if (outputEl) {{\n",
       "    x.observe(outputEl, {childList: true});\n",
       "}}\n",
       "\n",
       "                        })                };                });            </script>        </div>"
      ]
     },
     "metadata": {},
     "output_type": "display_data"
    },
    {
     "ename": "ValueError",
     "evalue": "\nImage export using the \"kaleido\" engine requires the kaleido package,\nwhich can be installed using pip:\n    $ pip install -U kaleido\n",
     "output_type": "error",
     "traceback": [
      "\u001b[1;31m---------------------------------------------------------------------------\u001b[0m",
      "\u001b[1;31mValueError\u001b[0m                                Traceback (most recent call last)",
      "Cell \u001b[1;32mIn[4], line 189\u001b[0m\n\u001b[0;32m    186\u001b[0m fig\u001b[38;5;241m.\u001b[39mwrite_html(\u001b[38;5;124m\"\u001b[39m\u001b[38;5;124mlithium_price_timeline.html\u001b[39m\u001b[38;5;124m\"\u001b[39m)\n\u001b[0;32m    188\u001b[0m \u001b[38;5;66;03m# 保存为图片\u001b[39;00m\n\u001b[1;32m--> 189\u001b[0m fig\u001b[38;5;241m.\u001b[39mwrite_image(\u001b[38;5;124m\"\u001b[39m\u001b[38;5;124mlithium_price_timeline.png\u001b[39m\u001b[38;5;124m\"\u001b[39m, scale\u001b[38;5;241m=\u001b[39m\u001b[38;5;241m2\u001b[39m)\n",
      "File \u001b[1;32mD:\\anaconda\\Lib\\site-packages\\plotly\\basedatatypes.py:3835\u001b[0m, in \u001b[0;36mBaseFigure.write_image\u001b[1;34m(self, *args, **kwargs)\u001b[0m\n\u001b[0;32m   3775\u001b[0m \u001b[38;5;250m\u001b[39m\u001b[38;5;124;03m\"\"\"\u001b[39;00m\n\u001b[0;32m   3776\u001b[0m \u001b[38;5;124;03mConvert a figure to a static image and write it to a file or writeable\u001b[39;00m\n\u001b[0;32m   3777\u001b[0m \u001b[38;5;124;03mobject\u001b[39;00m\n\u001b[1;32m   (...)\u001b[0m\n\u001b[0;32m   3831\u001b[0m \u001b[38;5;124;03mNone\u001b[39;00m\n\u001b[0;32m   3832\u001b[0m \u001b[38;5;124;03m\"\"\"\u001b[39;00m\n\u001b[0;32m   3833\u001b[0m \u001b[38;5;28;01mimport\u001b[39;00m \u001b[38;5;21;01mplotly\u001b[39;00m\u001b[38;5;21;01m.\u001b[39;00m\u001b[38;5;21;01mio\u001b[39;00m \u001b[38;5;28;01mas\u001b[39;00m \u001b[38;5;21;01mpio\u001b[39;00m\n\u001b[1;32m-> 3835\u001b[0m \u001b[38;5;28;01mreturn\u001b[39;00m pio\u001b[38;5;241m.\u001b[39mwrite_image(\u001b[38;5;28mself\u001b[39m, \u001b[38;5;241m*\u001b[39margs, \u001b[38;5;241m*\u001b[39m\u001b[38;5;241m*\u001b[39mkwargs)\n",
      "File \u001b[1;32mD:\\anaconda\\Lib\\site-packages\\plotly\\io\\_kaleido.py:266\u001b[0m, in \u001b[0;36mwrite_image\u001b[1;34m(fig, file, format, scale, width, height, validate, engine)\u001b[0m\n\u001b[0;32m    250\u001b[0m             \u001b[38;5;28;01mraise\u001b[39;00m \u001b[38;5;167;01mValueError\u001b[39;00m(\n\u001b[0;32m    251\u001b[0m \u001b[38;5;250m                \u001b[39m\u001b[38;5;124;03m\"\"\"\u001b[39;00m\n\u001b[0;32m    252\u001b[0m \u001b[38;5;124;03mCannot infer image type from output path '{file}'.\u001b[39;00m\n\u001b[1;32m   (...)\u001b[0m\n\u001b[0;32m    260\u001b[0m                 )\n\u001b[0;32m    261\u001b[0m             )\n\u001b[0;32m    263\u001b[0m     \u001b[38;5;66;03m# Request image\u001b[39;00m\n\u001b[0;32m    264\u001b[0m     \u001b[38;5;66;03m# -------------\u001b[39;00m\n\u001b[0;32m    265\u001b[0m     \u001b[38;5;66;03m# Do this first so we don't create a file if image conversion fails\u001b[39;00m\n\u001b[1;32m--> 266\u001b[0m     img_data \u001b[38;5;241m=\u001b[39m to_image(\n\u001b[0;32m    267\u001b[0m         fig,\n\u001b[0;32m    268\u001b[0m         \u001b[38;5;28mformat\u001b[39m\u001b[38;5;241m=\u001b[39m\u001b[38;5;28mformat\u001b[39m,\n\u001b[0;32m    269\u001b[0m         scale\u001b[38;5;241m=\u001b[39mscale,\n\u001b[0;32m    270\u001b[0m         width\u001b[38;5;241m=\u001b[39mwidth,\n\u001b[0;32m    271\u001b[0m         height\u001b[38;5;241m=\u001b[39mheight,\n\u001b[0;32m    272\u001b[0m         validate\u001b[38;5;241m=\u001b[39mvalidate,\n\u001b[0;32m    273\u001b[0m         engine\u001b[38;5;241m=\u001b[39mengine,\n\u001b[0;32m    274\u001b[0m     )\n\u001b[0;32m    276\u001b[0m     \u001b[38;5;66;03m# Open file\u001b[39;00m\n\u001b[0;32m    277\u001b[0m     \u001b[38;5;66;03m# ---------\u001b[39;00m\n\u001b[0;32m    278\u001b[0m     \u001b[38;5;28;01mif\u001b[39;00m path \u001b[38;5;129;01mis\u001b[39;00m \u001b[38;5;28;01mNone\u001b[39;00m:\n\u001b[0;32m    279\u001b[0m         \u001b[38;5;66;03m# We previously failed to make sense of `file` as a pathlib object.\u001b[39;00m\n\u001b[0;32m    280\u001b[0m         \u001b[38;5;66;03m# Attempt to write to `file` as an open file descriptor.\u001b[39;00m\n",
      "File \u001b[1;32mD:\\anaconda\\Lib\\site-packages\\plotly\\io\\_kaleido.py:132\u001b[0m, in \u001b[0;36mto_image\u001b[1;34m(fig, format, width, height, scale, validate, engine)\u001b[0m\n\u001b[0;32m    130\u001b[0m     \u001b[38;5;66;03m# Raise informative error message if Kaleido is not installed\u001b[39;00m\n\u001b[0;32m    131\u001b[0m     \u001b[38;5;28;01mif\u001b[39;00m scope \u001b[38;5;129;01mis\u001b[39;00m \u001b[38;5;28;01mNone\u001b[39;00m:\n\u001b[1;32m--> 132\u001b[0m         \u001b[38;5;28;01mraise\u001b[39;00m \u001b[38;5;167;01mValueError\u001b[39;00m(\n\u001b[0;32m    133\u001b[0m \u001b[38;5;250m            \u001b[39m\u001b[38;5;124;03m\"\"\"\u001b[39;00m\n\u001b[0;32m    134\u001b[0m \u001b[38;5;124;03mImage export using the \"kaleido\" engine requires the kaleido package,\u001b[39;00m\n\u001b[0;32m    135\u001b[0m \u001b[38;5;124;03mwhich can be installed using pip:\u001b[39;00m\n\u001b[0;32m    136\u001b[0m \u001b[38;5;124;03m    $ pip install -U kaleido\u001b[39;00m\n\u001b[0;32m    137\u001b[0m \u001b[38;5;124;03m\"\"\"\u001b[39;00m\n\u001b[0;32m    138\u001b[0m         )\n\u001b[0;32m    140\u001b[0m     \u001b[38;5;66;03m# Validate figure\u001b[39;00m\n\u001b[0;32m    141\u001b[0m     \u001b[38;5;66;03m# ---------------\u001b[39;00m\n\u001b[0;32m    142\u001b[0m     fig_dict \u001b[38;5;241m=\u001b[39m validate_coerce_fig_to_dict(fig, validate)\n",
      "\u001b[1;31mValueError\u001b[0m: \nImage export using the \"kaleido\" engine requires the kaleido package,\nwhich can be installed using pip:\n    $ pip install -U kaleido\n"
     ]
    }
   ],
   "source": [
    "import plotly.graph_objects as go\n",
    "import pandas as pd\n",
    "from datetime import datetime\n",
    "\n",
    "# 构造数据\n",
    "data = {\n",
    "    'date': ['2020-01-01', '2021-01-01', '2022-01-01', '2022-09-30',\n",
    "             '2022-12-31', '2023-03-31', '2023-06-30', '2023-07-21',\n",
    "             '2023-09-30', '2023-12-31'],\n",
    "    'price': [5.3, 28.6, 56.7, 60, 35, 28, 15.2, 9.0, 12.5, 9.0],\n",
    "    'inventory_demand_ratio': [0.3, 0.2, 0.3, 0.3, 1.2, 1.5, 1.8, 2.0, 2.1, 2.2]\n",
    "}\n",
    "df = pd.DataFrame(data)\n",
    "df['date'] = pd.to_datetime(df['date'])\n",
    "\n",
    "# 创建Figure对象\n",
    "fig = go.Figure()\n",
    "\n",
    "# 添加阶段背景色\n",
    "fig.update_layout(\n",
    "    shapes=[\n",
    "        # 阶段一：供需紧张（2020-2022Q3）\n",
    "        dict(\n",
    "            type=\"rect\",\n",
    "            xref=\"x\",\n",
    "            yref=\"paper\",\n",
    "            x0=\"2020-01-01\",\n",
    "            y0=0,\n",
    "            x1=\"2022-09-30\",\n",
    "            y1=1,\n",
    "            fillcolor=\"rgba(0,255,0,0.1)\",\n",
    "            line_width=0\n",
    "        ),\n",
    "        # 阶段二：需求拐点（2022Q4-2023Q2）\n",
    "        dict(\n",
    "            type=\"rect\",\n",
    "            xref=\"x\",\n",
    "            yref=\"paper\",\n",
    "            x0=\"2022-10-01\",\n",
    "            y0=0,\n",
    "            x1=\"2023-06-30\",\n",
    "            y1=1,\n",
    "            fillcolor=\"rgba(255,165,0,0.1)\",\n",
    "            line_width=0\n",
    "        ),\n",
    "        # 阶段三：期货出清（2023Q3-2023Q4）\n",
    "        dict(\n",
    "            type=\"rect\",\n",
    "            xref=\"x\",\n",
    "            yref=\"paper\",\n",
    "            x0=\"2023-07-01\",\n",
    "            y0=0,\n",
    "            x1=\"2023-12-31\",\n",
    "            y1=1,\n",
    "            fillcolor=\"rgba(255,0,0,0.1)\",\n",
    "            line_width=0\n",
    "        )\n",
    "    ]\n",
    ")\n",
    "\n",
    "# 添加价格折线图\n",
    "fig.add_trace(go.Scatter(\n",
    "    x=df['date'],\n",
    "    y=df['price'],\n",
    "    name='碳酸锂价格',\n",
    "    line=dict(color='#d62728', width=3),\n",
    "    mode='lines+markers',\n",
    "    marker=dict(size=8),\n",
    "    hovertemplate=\"<b>%{x|%Y-%m}</b><br>价格：%{y}万元/吨<extra></extra>\"\n",
    "))\n",
    "\n",
    "# 添加库存消费比柱状图\n",
    "fig.add_trace(go.Bar(\n",
    "    x=df['date'],\n",
    "    y=df['inventory_demand_ratio'],\n",
    "    name='库存消费比（月）',\n",
    "    marker=dict(color='#1f77b4', opacity=0.3),\n",
    "    yaxis='y2',\n",
    "    hovertemplate=\"<b>%{x|%Y-%m}</b><br>库存消费比：%{y}个月<extra></extra>\"\n",
    "))\n",
    "\n",
    "# 添加关键事件标注\n",
    "events = [\n",
    "    {\n",
    "        \"date\": \"2020-01-01\",\n",
    "        \"text\": \"新能源补贴延续<br>价格5.3→28.6万\",\n",
    "        \"y\": 30\n",
    "    },\n",
    "    {\n",
    "        \"date\": \"2022-09-30\",\n",
    "        \"text\": \"价格冲顶60万<br>库存比0.3个月\",\n",
    "        \"y\": 62\n",
    "    },\n",
    "    {\n",
    "        \"date\": \"2022-12-31\",\n",
    "        \"text\": \"补贴退坡<br>需求增速降至35%\",\n",
    "        \"y\": 38\n",
    "    },\n",
    "    {\n",
    "        \"date\": \"2023-07-21\",\n",
    "        \"text\": \"期货上市首周跌停<br>基差贴水20%\",\n",
    "        \"y\": 12\n",
    "    },\n",
    "    {\n",
    "        \"date\": \"2023-12-31\",\n",
    "        \"text\": \"套保失效<br>价格跌至9万\",\n",
    "        \"y\": 10\n",
    "    }\n",
    "]\n",
    "\n",
    "annotations = []\n",
    "for event in events:\n",
    "    annotations.append(\n",
    "        dict(\n",
    "            x=datetime.strptime(event[\"date\"], \"%Y-%m-%d\"),\n",
    "            y=event[\"y\"],\n",
    "            xref=\"x\",\n",
    "            yref=\"y\",\n",
    "            text=event[\"text\"],\n",
    "            showarrow=True,\n",
    "            arrowhead=3,\n",
    "            arrowsize=1.5,\n",
    "            ax=0,\n",
    "            ay=-40,\n",
    "            bordercolor=\"#333\",\n",
    "            borderwidth=1,\n",
    "            bgcolor=\"#fff\",\n",
    "            opacity=0.9\n",
    "        )\n",
    "    )\n",
    "\n",
    "# 更新布局\n",
    "fig.update_layout(\n",
    "    title={\n",
    "        'text': \"<b>碳酸锂价格与关键事件时间线（2020-2023）</b>\",\n",
    "        'y':0.95,\n",
    "        'x':0.5,\n",
    "        'xanchor': 'center',\n",
    "        'yanchor': 'top',\n",
    "        'font': dict(size=20)\n",
    "    },\n",
    "    xaxis=dict(\n",
    "        tickformat=\"%Y-%m\",\n",
    "        tickangle=45,\n",
    "        gridcolor='rgba(200,200,200,0.3)'\n",
    "    ),\n",
    "    yaxis=dict(\n",
    "        title=\"价格 (万元/吨)\",\n",
    "        range=[0, 65],\n",
    "        gridcolor='rgba(200,200,200,0.3)'\n",
    "    ),\n",
    "    yaxis2=dict(\n",
    "        title=\"库存消费比 (月)\",\n",
    "        overlaying=\"y\",\n",
    "        side=\"right\",\n",
    "        range=[0, 2.5]\n",
    "    ),\n",
    "    legend=dict(\n",
    "        x=0.02,\n",
    "        y=0.98,\n",
    "        bgcolor='rgba(255,255,255,0.8)'\n",
    "    ),\n",
    "    hovermode=\"x unified\",\n",
    "    plot_bgcolor='rgba(255,255,255,1)',\n",
    "    annotations=annotations,\n",
    "    margin=dict(l=50, r=50, t=100, b=80),\n",
    "    width=1200,\n",
    "    height=600\n",
    ")\n",
    "\n",
    "# 添加数据来源标注\n",
    "fig.add_annotation(\n",
    "    x=1,\n",
    "    y=-0.25,\n",
    "    xref=\"paper\",\n",
    "    yref=\"paper\",\n",
    "    text=\"数据来源：SMM、中国汽车工业协会（2024）\",\n",
    "    showarrow=False,\n",
    "    font=dict(size=10, color=\"#666\")\n",
    ")\n",
    "\n",
    "# 显示图表\n",
    "fig.show()\n",
    "\n",
    "# 保存为HTML文件\n",
    "fig.write_html(\"lithium_price_timeline.html\")\n",
    "\n",
    "# 保存为图片\n",
    "fig.write_image(\"lithium_price_timeline.png\", scale=2)"
   ]
  },
  {
   "cell_type": "code",
   "execution_count": null,
   "id": "e8dd7ece-16d8-4648-b199-ebdbfe3a2547",
   "metadata": {},
   "outputs": [],
   "source": []
  },
  {
   "cell_type": "code",
   "execution_count": null,
   "id": "49b9a901-5bce-426b-81d4-ad6f6d796e40",
   "metadata": {},
   "outputs": [],
   "source": []
  }
 ],
 "metadata": {
  "kernelspec": {
   "display_name": "Python 3 (ipykernel)",
   "language": "python",
   "name": "python3"
  },
  "language_info": {
   "codemirror_mode": {
    "name": "ipython",
    "version": 3
   },
   "file_extension": ".py",
   "mimetype": "text/x-python",
   "name": "python",
   "nbconvert_exporter": "python",
   "pygments_lexer": "ipython3",
   "version": "3.12.7"
  }
 },
 "nbformat": 4,
 "nbformat_minor": 5
}
